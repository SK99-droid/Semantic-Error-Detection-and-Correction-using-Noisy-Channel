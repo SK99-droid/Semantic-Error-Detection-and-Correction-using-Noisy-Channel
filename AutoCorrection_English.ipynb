{
 "cells": [
  {
   "cell_type": "code",
   "execution_count": 1,
   "metadata": {},
   "outputs": [],
   "source": [
    "import csv\n",
    "import os\n",
    "import nltk \n",
    "import re                               \n",
    "import string                   \n",
    "import numpy as np\n",
    "from nltk.tokenize import word_tokenize\n",
    "from nltk.corpus import stopwords, wordnet\n",
    "from nltk.stem import WordNetLemmatizer\n",
    "import pandas as pd\n",
    "punc = string.punctuation\n",
    "from collections import Counter"
   ]
  },
  {
   "cell_type": "code",
   "execution_count": 2,
   "metadata": {},
   "outputs": [],
   "source": [
    "class autocorrect :\n",
    "    \n",
    "    def __init__(self):\n",
    "        pass\n",
    "\n",
    "    def get_data_file(self, path = pd.read_csv(r'F:\\7sabat\\GP\\New folder\\speech-recognition-for-people-with-dysarthria\\English_auto_correct_and_TSS\\data\\UAspeechVocab.csv')):\n",
    "        self.corpus = path['label']\n",
    "        return self.corpus\n",
    "        \n",
    "    def get_words_cleaned(self):\n",
    "        updated_corpus = []\n",
    "        corpus = self.get_data_file()\n",
    "        for word in corpus:\n",
    "            updated_corpus.append(word.strip(\"\\n\").lower())\n",
    "        return updated_corpus\n",
    "    \n",
    "    def get_counts(self):\n",
    "        corpus = self.get_words_cleaned()\n",
    "        words_counts = Counter(corpus)\n",
    "        return words_counts\n",
    "    \n",
    "    def probability(self,word):\n",
    "        words_counts = self.get_counts()\n",
    "        N = sum(words_counts.values())\n",
    "        return words_counts[word]/N\n",
    "    \n",
    "    def if_known(self,words):\n",
    "        words_counts = self.get_counts()\n",
    "        revelant = []\n",
    "        for w in words:\n",
    "            if w in words_counts:\n",
    "                revelant.append(w)\n",
    "        return revelant\n",
    "    \n",
    "    def edits_1(self,word):\n",
    "        letters_english = 'abcdefghijklmnopqrstuvwxyz'\n",
    "        letters_arbic = 'ابتثجحخدذرزسشصضطظعغفقكلمنهويةىء'\n",
    "        splits = [(word[:i],word[i:]) for i in range(len(word)+1)]\n",
    "        deletes = [left + right[1:] for left,right in splits if right]\n",
    "        inserts = [left + center + right for left , right in splits for center in letters_english]\n",
    "        replaces = [left + center + right[1:] for left , right in splits if right for center in letters_english]\n",
    "        transposes = [left + right[1] + right[0] +right[2:] for left , right in splits if len(right)>1]\n",
    "        return set(deletes + inserts + replaces + transposes)\n",
    "\n",
    "    def edits_2(self,word):\n",
    "        for edit1 in self.edits_1(word):\n",
    "            for edit2 in self.edits_1(edit1):\n",
    "                return edit2\n",
    "            \n",
    "    def candidates(self,word):\n",
    "        return ( self.if_known(self.edits_1(word)) or self.if_known(self.edits_2(word)) or self.if_known([word]) or [word]) \n",
    "    def best_correction(self,word):\n",
    "        candidate = self.candidates(word)\n",
    "        return max(candidate,key = self.probability)"
   ]
  },
  {
   "cell_type": "code",
   "execution_count": 3,
   "metadata": {},
   "outputs": [],
   "source": [
    "correct = autocorrect()"
   ]
  },
  {
   "cell_type": "code",
   "execution_count": 4,
   "metadata": {},
   "outputs": [
    {
     "data": {
      "text/plain": [
       "0.0038801680300685386"
      ]
     },
     "execution_count": 4,
     "metadata": {},
     "output_type": "execute_result"
    }
   ],
   "source": [
    "correct.probability('upward')"
   ]
  },
  {
   "cell_type": "code",
   "execution_count": 6,
   "metadata": {},
   "outputs": [
    {
     "data": {
      "text/plain": [
       "'carrot'"
      ]
     },
     "execution_count": 6,
     "metadata": {},
     "output_type": "execute_result"
    }
   ],
   "source": [
    "correct.best_correction('carot')"
   ]
  },
  {
   "cell_type": "code",
   "execution_count": 7,
   "metadata": {},
   "outputs": [
    {
     "data": {
      "text/plain": [
       "['carrot']"
      ]
     },
     "execution_count": 7,
     "metadata": {},
     "output_type": "execute_result"
    }
   ],
   "source": [
    "correct.candidates('carot')"
   ]
  },
  {
   "cell_type": "code",
   "execution_count": 8,
   "metadata": {},
   "outputs": [
    {
     "data": {
      "text/plain": [
       "'upward'"
      ]
     },
     "execution_count": 8,
     "metadata": {},
     "output_type": "execute_result"
    }
   ],
   "source": [
    "correct.best_correction('upword')"
   ]
  },
  {
   "cell_type": "code",
   "execution_count": 9,
   "metadata": {},
   "outputs": [
    {
     "data": {
      "text/plain": [
       "['upward']"
      ]
     },
     "execution_count": 9,
     "metadata": {},
     "output_type": "execute_result"
    }
   ],
   "source": [
    "correct.candidates('upword')"
   ]
  },
  {
   "cell_type": "code",
   "execution_count": 11,
   "metadata": {},
   "outputs": [
    {
     "data": {
      "text/plain": [
       "['the', 'than', 'that']"
      ]
     },
     "execution_count": 11,
     "metadata": {},
     "output_type": "execute_result"
    }
   ],
   "source": [
    "correct.candidates('tha')"
   ]
  },
  {
   "cell_type": "code",
   "execution_count": 12,
   "metadata": {},
   "outputs": [
    {
     "data": {
      "text/plain": [
       "'the'"
      ]
     },
     "execution_count": 12,
     "metadata": {},
     "output_type": "execute_result"
    }
   ],
   "source": [
    "correct.best_correction('tha')"
   ]
  },
  {
   "cell_type": "code",
   "execution_count": null,
   "metadata": {},
   "outputs": [],
   "source": []
  }
 ],
 "metadata": {
  "kernelspec": {
   "display_name": "Python 3",
   "language": "python",
   "name": "python3"
  },
  "language_info": {
   "codemirror_mode": {
    "name": "ipython",
    "version": 3
   },
   "file_extension": ".py",
   "mimetype": "text/x-python",
   "name": "python",
   "nbconvert_exporter": "python",
   "pygments_lexer": "ipython3",
   "version": "3.7.4"
  }
 },
 "nbformat": 4,
 "nbformat_minor": 2
}
